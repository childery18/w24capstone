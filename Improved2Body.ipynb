{
 "cells": [
  {
   "cell_type": "code",
   "execution_count": null,
   "id": "bd26d9e2",
   "metadata": {},
   "outputs": [],
   "source": [
    "import numpy as np\n",
    "import plotly.express as px\n",
    "\n",
    "G = 6.67430e-11\n",
    "\n",
    "#Earth\n",
    "mass1 = 5.972e24\n",
    "#Moon\n",
    "mass2 = 7.342e22\n",
    "\n",
    "#Total time\n",
    "time_evolve = 3.14e7 / 12 #1 months\n",
    "\n",
    "time_step = 100 #seconds\n",
    "\n",
    "num_steps = int(time_evolve/time_step)\n",
    "\n",
    "#Postions arrays [x,y,z] in meters\n",
    "positions1 = np.array[0,0,0] #Earth\n",
    "positions2 = np.array[384e6,0,0] #Moon\n",
    "\n",
    "rel_positions = positions1 - positions2\n",
    "\n",
    "#Velocity arrays [Vx,Vy,Vz] in m/s\n",
    "velocities1 = np.array[0,0,0] #Earth\n",
    "velocities2 = np.array[0,0,0] #Moon\n",
    "\n",
    "def grav_force(m1, m2, r):\n",
    "    grav_force = (G * m1 * m2) / r**2\n",
    "    return grav_force\n",
    "\n",
    "def derivs(dx, dt):\n",
    "    dvdt = grav_force(mass1, mass2, rel_positions)\n",
    "    dxdt = dvdt * dt\n",
    "    return dxdt\n",
    "\n",
    "for i in range(num_steps):\n",
    "        positions1[i,:] = positions1[i + (dxdt*num_steps), :] #this is most definitely not going to do what i want\n",
    "        #maybe create relative x,y,z positions and use grav forces to calculate Fx,Fy,Fz\n",
    "        #how to properly use derivs function? already forgot...\n",
    "        #how do dt and num_steps relate and where do they go in derivs and iterating, ic ould figure this out but im tired\n",
    "        #is there even a point to velocity arrays? (prob not)"
   ]
  }
 ],
 "metadata": {
  "kernelspec": {
   "display_name": "Python 3 (ipykernel)",
   "language": "python",
   "name": "python3"
  },
  "language_info": {
   "codemirror_mode": {
    "name": "ipython",
    "version": 3
   },
   "file_extension": ".py",
   "mimetype": "text/x-python",
   "name": "python",
   "nbconvert_exporter": "python",
   "pygments_lexer": "ipython3",
   "version": "3.9.12"
  }
 },
 "nbformat": 4,
 "nbformat_minor": 5
}
