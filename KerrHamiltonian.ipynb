{
 "cells": [
  {
   "cell_type": "code",
   "execution_count": 1,
   "id": "1c2479da-f4bf-4272-af44-390f4fd73133",
   "metadata": {},
   "outputs": [],
   "source": [
    "from sympy import symbols, Matrix, cos, sin, simplify, expand, collect, pi\n",
    "\n",
    "# Define the variables\n",
    "t, r, theta, phi, a, Lambda, J = symbols('t r theta phi a Lambda, J')\n",
    "dt, dr, dtheta, dphi, M = symbols('dt dr dtheta dphi M')\n",
    "\n",
    "a = J/M\n",
    "\n",
    "Delta = r**2 - 2*M*r + a**2\n",
    "\n",
    "Sigma = r**2 + a**2 * cos(theta)**2"
   ]
  },
  {
   "cell_type": "code",
   "execution_count": 2,
   "id": "dfd1d196-1856-4870-88dc-d1549f775d3c",
   "metadata": {},
   "outputs": [
    {
     "data": {
      "text/latex": [
       "$\\displaystyle \\left[\\begin{matrix}\\frac{2 M r}{\\frac{J^{2} \\cos^{2}{\\left(\\theta \\right)}}{M^{2}} + r^{2}} - 1 & 0 & 0 & - \\frac{4 J M^{2} r \\sin^{2}{\\left(\\theta \\right)}}{J^{2} \\cos^{2}{\\left(\\theta \\right)} + M^{2} r^{2}}\\\\0 & \\frac{J^{2} \\cos^{2}{\\left(\\theta \\right)} + M^{2} r^{2}}{J^{2} + M^{2} r \\left(- 2 M + r\\right)} & 0 & 0\\\\0 & 0 & \\frac{J^{2} \\cos^{2}{\\left(\\theta \\right)}}{M^{2}} + r^{2} & 0\\\\- \\frac{4 J M^{2} r \\sin^{2}{\\left(\\theta \\right)}}{J^{2} \\cos^{2}{\\left(\\theta \\right)} + M^{2} r^{2}} & 0 & 0 & \\left(\\frac{2 J^{2} r \\sin^{2}{\\left(\\theta \\right)}}{M \\left(\\frac{J^{2} \\cos^{2}{\\left(\\theta \\right)}}{M^{2}} + r^{2}\\right)} + \\frac{J^{2}}{M^{2}} + r^{2}\\right) \\sin^{2}{\\left(\\theta \\right)}\\end{matrix}\\right]$"
      ],
      "text/plain": [
       "Matrix([\n",
       "[                2*M*r/(J**2*cos(theta)**2/M**2 + r**2) - 1,                                                           0,                              0,                                     -4*J*M**2*r*sin(theta)**2/(J**2*cos(theta)**2 + M**2*r**2)],\n",
       "[                                                         0, (J**2*cos(theta)**2 + M**2*r**2)/(J**2 + M**2*r*(-2*M + r)),                              0,                                                                                              0],\n",
       "[                                                         0,                                                           0, J**2*cos(theta)**2/M**2 + r**2,                                                                                              0],\n",
       "[-4*J*M**2*r*sin(theta)**2/(J**2*cos(theta)**2 + M**2*r**2),                                                           0,                              0, (2*J**2*r*sin(theta)**2/(M*(J**2*cos(theta)**2/M**2 + r**2)) + J**2/M**2 + r**2)*sin(theta)**2]])"
      ]
     },
     "execution_count": 2,
     "metadata": {},
     "output_type": "execute_result"
    }
   ],
   "source": [
    "gtt = -(1 - (2*M*r)/(Sigma))\n",
    "grr = Sigma/Delta\n",
    "gthetatheta = Sigma\n",
    "gphiphi = (r**2 + a**2 + (2*a**2 * M * r * sin(theta)**2)/Sigma)*sin(theta)**2\n",
    "\n",
    "gtphi = -(4*a*M*r*sin(theta)**2)/Sigma\n",
    "\n",
    "g = simplify(Matrix([[gtt, 0, 0, gtphi], [0, grr, 0, 0], [0, 0, gthetatheta, 0], [gtphi, 0, 0, gphiphi]]))\n",
    "g"
   ]
  },
  {
   "cell_type": "code",
   "execution_count": 5,
   "id": "b02abcae-ab76-4a76-8515-8c5baf5dc133",
   "metadata": {},
   "outputs": [
    {
     "data": {
      "text/latex": [
       "$\\displaystyle \\left[\\begin{matrix}\\frac{- J^{6} \\cos^{4}{\\left(\\theta \\right)} - 2 J^{4} M^{3} r \\sin^{2}{\\left(\\theta \\right)} \\cos^{2}{\\left(\\theta \\right)} - J^{4} M^{2} r^{2} \\cos^{4}{\\left(\\theta \\right)} - 2 J^{4} M^{2} r^{2} \\cos^{2}{\\left(\\theta \\right)} - 2 J^{2} M^{5} r^{3} \\sin^{2}{\\left(\\theta \\right)} - 2 J^{2} M^{4} r^{4} \\cos^{2}{\\left(\\theta \\right)} - J^{2} M^{4} r^{4} - M^{6} r^{6}}{J^{6} \\cos^{4}{\\left(\\theta \\right)} + 2 J^{4} M^{3} r \\sin^{2}{\\left(\\theta \\right)} \\cos^{2}{\\left(\\theta \\right)} - 2 J^{4} M^{3} r \\cos^{2}{\\left(\\theta \\right)} + J^{4} M^{2} r^{2} \\cos^{4}{\\left(\\theta \\right)} + 2 J^{4} M^{2} r^{2} \\cos^{2}{\\left(\\theta \\right)} + 12 J^{2} M^{6} r^{2} \\sin^{2}{\\left(\\theta \\right)} + 2 J^{2} M^{5} r^{3} \\sin^{2}{\\left(\\theta \\right)} - 2 J^{2} M^{5} r^{3} \\cos^{2}{\\left(\\theta \\right)} - 2 J^{2} M^{5} r^{3} + 2 J^{2} M^{4} r^{4} \\cos^{2}{\\left(\\theta \\right)} + J^{2} M^{4} r^{4} - 2 M^{7} r^{5} + M^{6} r^{6}} & 0 & 0 & \\frac{- 4 J^{3} M^{4} r \\cos^{2}{\\left(\\theta \\right)} - 4 J M^{6} r^{3}}{J^{6} \\cos^{4}{\\left(\\theta \\right)} + 2 J^{4} M^{3} r \\sin^{2}{\\left(\\theta \\right)} \\cos^{2}{\\left(\\theta \\right)} - 2 J^{4} M^{3} r \\cos^{2}{\\left(\\theta \\right)} + J^{4} M^{2} r^{2} \\cos^{4}{\\left(\\theta \\right)} + 2 J^{4} M^{2} r^{2} \\cos^{2}{\\left(\\theta \\right)} + 12 J^{2} M^{6} r^{2} \\sin^{2}{\\left(\\theta \\right)} + 2 J^{2} M^{5} r^{3} \\sin^{2}{\\left(\\theta \\right)} - 2 J^{2} M^{5} r^{3} \\cos^{2}{\\left(\\theta \\right)} - 2 J^{2} M^{5} r^{3} + 2 J^{2} M^{4} r^{4} \\cos^{2}{\\left(\\theta \\right)} + J^{2} M^{4} r^{4} - 2 M^{7} r^{5} + M^{6} r^{6}}\\\\0 & \\frac{J^{2} - 2 M^{3} r + M^{2} r^{2}}{J^{2} \\cos^{2}{\\left(\\theta \\right)} + M^{2} r^{2}} & 0 & 0\\\\0 & 0 & \\frac{M^{2}}{J^{2} \\cos^{2}{\\left(\\theta \\right)} + M^{2} r^{2}} & 0\\\\\\frac{- 4 J^{3} M^{4} r \\cos^{2}{\\left(\\theta \\right)} - 4 J M^{6} r^{3}}{J^{6} \\cos^{4}{\\left(\\theta \\right)} + 2 J^{4} M^{3} r \\sin^{2}{\\left(\\theta \\right)} \\cos^{2}{\\left(\\theta \\right)} - 2 J^{4} M^{3} r \\cos^{2}{\\left(\\theta \\right)} + J^{4} M^{2} r^{2} \\cos^{4}{\\left(\\theta \\right)} + 2 J^{4} M^{2} r^{2} \\cos^{2}{\\left(\\theta \\right)} + 12 J^{2} M^{6} r^{2} \\sin^{2}{\\left(\\theta \\right)} + 2 J^{2} M^{5} r^{3} \\sin^{2}{\\left(\\theta \\right)} - 2 J^{2} M^{5} r^{3} \\cos^{2}{\\left(\\theta \\right)} - 2 J^{2} M^{5} r^{3} + 2 J^{2} M^{4} r^{4} \\cos^{2}{\\left(\\theta \\right)} + J^{2} M^{4} r^{4} - 2 M^{7} r^{5} + M^{6} r^{6}} & 0 & 0 & \\frac{J^{4} M^{2} \\cos^{4}{\\left(\\theta \\right)} - 2 J^{2} M^{5} r \\cos^{2}{\\left(\\theta \\right)} + 2 J^{2} M^{4} r^{2} \\cos^{2}{\\left(\\theta \\right)} - 2 M^{7} r^{3} + M^{6} r^{4}}{J^{6} \\sin^{2}{\\left(\\theta \\right)} \\cos^{4}{\\left(\\theta \\right)} + 2 J^{4} M^{3} r \\sin^{4}{\\left(\\theta \\right)} \\cos^{2}{\\left(\\theta \\right)} - 2 J^{4} M^{3} r \\sin^{2}{\\left(\\theta \\right)} \\cos^{2}{\\left(\\theta \\right)} + J^{4} M^{2} r^{2} \\sin^{2}{\\left(\\theta \\right)} \\cos^{4}{\\left(\\theta \\right)} + 2 J^{4} M^{2} r^{2} \\sin^{2}{\\left(\\theta \\right)} \\cos^{2}{\\left(\\theta \\right)} + 12 J^{2} M^{6} r^{2} \\sin^{4}{\\left(\\theta \\right)} + 2 J^{2} M^{5} r^{3} \\sin^{4}{\\left(\\theta \\right)} - 2 J^{2} M^{5} r^{3} \\sin^{2}{\\left(\\theta \\right)} \\cos^{2}{\\left(\\theta \\right)} - 2 J^{2} M^{5} r^{3} \\sin^{2}{\\left(\\theta \\right)} + 2 J^{2} M^{4} r^{4} \\sin^{2}{\\left(\\theta \\right)} \\cos^{2}{\\left(\\theta \\right)} + J^{2} M^{4} r^{4} \\sin^{2}{\\left(\\theta \\right)} - 2 M^{7} r^{5} \\sin^{2}{\\left(\\theta \\right)} + M^{6} r^{6} \\sin^{2}{\\left(\\theta \\right)}}\\end{matrix}\\right]$"
      ],
      "text/plain": [
       "Matrix([\n",
       "[(-J**6*cos(theta)**4 - 2*J**4*M**3*r*sin(theta)**2*cos(theta)**2 - J**4*M**2*r**2*cos(theta)**4 - 2*J**4*M**2*r**2*cos(theta)**2 - 2*J**2*M**5*r**3*sin(theta)**2 - 2*J**2*M**4*r**4*cos(theta)**2 - J**2*M**4*r**4 - M**6*r**6)/(J**6*cos(theta)**4 + 2*J**4*M**3*r*sin(theta)**2*cos(theta)**2 - 2*J**4*M**3*r*cos(theta)**2 + J**4*M**2*r**2*cos(theta)**4 + 2*J**4*M**2*r**2*cos(theta)**2 + 12*J**2*M**6*r**2*sin(theta)**2 + 2*J**2*M**5*r**3*sin(theta)**2 - 2*J**2*M**5*r**3*cos(theta)**2 - 2*J**2*M**5*r**3 + 2*J**2*M**4*r**4*cos(theta)**2 + J**2*M**4*r**4 - 2*M**7*r**5 + M**6*r**6),                                                              0,                                     0,                                                                                                                                                                                                                 (-4*J**3*M**4*r*cos(theta)**2 - 4*J*M**6*r**3)/(J**6*cos(theta)**4 + 2*J**4*M**3*r*sin(theta)**2*cos(theta)**2 - 2*J**4*M**3*r*cos(theta)**2 + J**4*M**2*r**2*cos(theta)**4 + 2*J**4*M**2*r**2*cos(theta)**2 + 12*J**2*M**6*r**2*sin(theta)**2 + 2*J**2*M**5*r**3*sin(theta)**2 - 2*J**2*M**5*r**3*cos(theta)**2 - 2*J**2*M**5*r**3 + 2*J**2*M**4*r**4*cos(theta)**2 + J**2*M**4*r**4 - 2*M**7*r**5 + M**6*r**6)],\n",
       "[                                                                                                                                                                                                                                                                                                                                                                                                                                                                                                                                                                                                 0, (J**2 - 2*M**3*r + M**2*r**2)/(J**2*cos(theta)**2 + M**2*r**2),                                     0,                                                                                                                                                                                                                                                                                                                                                                                                                                                                                                                                                                                                                                0],\n",
       "[                                                                                                                                                                                                                                                                                                                                                                                                                                                                                                                                                                                                 0,                                                              0, M**2/(J**2*cos(theta)**2 + M**2*r**2),                                                                                                                                                                                                                                                                                                                                                                                                                                                                                                                                                                                                                                0],\n",
       "[                                                                                                                                                                                  (-4*J**3*M**4*r*cos(theta)**2 - 4*J*M**6*r**3)/(J**6*cos(theta)**4 + 2*J**4*M**3*r*sin(theta)**2*cos(theta)**2 - 2*J**4*M**3*r*cos(theta)**2 + J**4*M**2*r**2*cos(theta)**4 + 2*J**4*M**2*r**2*cos(theta)**2 + 12*J**2*M**6*r**2*sin(theta)**2 + 2*J**2*M**5*r**3*sin(theta)**2 - 2*J**2*M**5*r**3*cos(theta)**2 - 2*J**2*M**5*r**3 + 2*J**2*M**4*r**4*cos(theta)**2 + J**2*M**4*r**4 - 2*M**7*r**5 + M**6*r**6),                                                              0,                                     0, (J**4*M**2*cos(theta)**4 - 2*J**2*M**5*r*cos(theta)**2 + 2*J**2*M**4*r**2*cos(theta)**2 - 2*M**7*r**3 + M**6*r**4)/(J**6*sin(theta)**2*cos(theta)**4 + 2*J**4*M**3*r*sin(theta)**4*cos(theta)**2 - 2*J**4*M**3*r*sin(theta)**2*cos(theta)**2 + J**4*M**2*r**2*sin(theta)**2*cos(theta)**4 + 2*J**4*M**2*r**2*sin(theta)**2*cos(theta)**2 + 12*J**2*M**6*r**2*sin(theta)**4 + 2*J**2*M**5*r**3*sin(theta)**4 - 2*J**2*M**5*r**3*sin(theta)**2*cos(theta)**2 - 2*J**2*M**5*r**3*sin(theta)**2 + 2*J**2*M**4*r**4*sin(theta)**2*cos(theta)**2 + J**2*M**4*r**4*sin(theta)**2 - 2*M**7*r**5*sin(theta)**2 + M**6*r**6*sin(theta)**2)]])"
      ]
     },
     "execution_count": 5,
     "metadata": {},
     "output_type": "execute_result"
    }
   ],
   "source": [
    "ginv = g.inv()\n",
    "ginv"
   ]
  },
  {
   "cell_type": "code",
   "execution_count": 9,
   "id": "260f9b84-f03f-41b0-935f-4f907a11b4a1",
   "metadata": {},
   "outputs": [
    {
     "name": "stdout",
     "output_type": "stream",
     "text": [
      "(M**2*pphi**2*(J**2*cos(theta)**2 + M**2*r**2)**2*(J**2*cos(theta)**2 - 2*M**3*r + M**2*r**2) + pt*(-J**2*sin(theta)**2 + J**2 + M**2*r**2)**2*(J**4*pt*sin(theta)**2 - J**4*pt - 2*J**2*M**3*pt*r*sin(theta)**2 + J**2*M**2*pt*r**2*sin(theta)**2 - 2*J**2*M**2*pt*r**2 - 8*J*M**4*pphi*r - M**4*pt*r**4)*sin(theta)**2 + (M**2*ptheta**2 + pr**2*(J**2 - 2*M**3*r + M**2*r**2))*(J**6*cos(theta)**4 + J**4*M**3*r*(1 - cos(4*theta))/4 - 2*J**4*M**3*r*cos(theta)**2 + J**4*M**2*r**2*cos(theta)**4 + 2*J**4*M**2*r**2*cos(theta)**2 + 12*J**2*M**6*r**2*sin(theta)**2 + 2*J**2*M**5*r**3*sin(theta)**2 - 2*J**2*M**5*r**3*cos(theta)**2 - 2*J**2*M**5*r**3 + 2*J**2*M**4*r**4*cos(theta)**2 + J**2*M**4*r**4 - 2*M**7*r**5 + M**6*r**6)*sin(theta)**2)/(2*m*(J**2*cos(theta)**2 + M**2*r**2)*(J**6*cos(theta)**4 + J**4*M**3*r*(1 - cos(4*theta))/4 - 2*J**4*M**3*r*cos(theta)**2 + J**4*M**2*r**2*cos(theta)**4 + 2*J**4*M**2*r**2*cos(theta)**2 + 12*J**2*M**6*r**2*sin(theta)**2 + 2*J**2*M**5*r**3*sin(theta)**2 - 2*J**2*M**5*r**3*cos(theta)**2 - 2*J**2*M**5*r**3 + 2*J**2*M**4*r**4*cos(theta)**2 + J**2*M**4*r**4 - 2*M**7*r**5 + M**6*r**6)*sin(theta)**2)\n"
     ]
    },
    {
     "data": {
      "text/latex": [
       "$\\displaystyle \\frac{\\frac{M^{2} ptheta^{2}}{J^{2} \\cos^{2}{\\left(\\theta \\right)} + M^{2} r^{2}} + \\frac{pphi^{2} \\left(J^{4} M^{2} \\cos^{4}{\\left(\\theta \\right)} - 2 J^{2} M^{5} r \\cos^{2}{\\left(\\theta \\right)} + 2 J^{2} M^{4} r^{2} \\cos^{2}{\\left(\\theta \\right)} - 2 M^{7} r^{3} + M^{6} r^{4}\\right)}{J^{6} \\sin^{2}{\\left(\\theta \\right)} \\cos^{4}{\\left(\\theta \\right)} + 2 J^{4} M^{3} r \\sin^{4}{\\left(\\theta \\right)} \\cos^{2}{\\left(\\theta \\right)} - 2 J^{4} M^{3} r \\sin^{2}{\\left(\\theta \\right)} \\cos^{2}{\\left(\\theta \\right)} + J^{4} M^{2} r^{2} \\sin^{2}{\\left(\\theta \\right)} \\cos^{4}{\\left(\\theta \\right)} + 2 J^{4} M^{2} r^{2} \\sin^{2}{\\left(\\theta \\right)} \\cos^{2}{\\left(\\theta \\right)} + 12 J^{2} M^{6} r^{2} \\sin^{4}{\\left(\\theta \\right)} + 2 J^{2} M^{5} r^{3} \\sin^{4}{\\left(\\theta \\right)} - 2 J^{2} M^{5} r^{3} \\sin^{2}{\\left(\\theta \\right)} \\cos^{2}{\\left(\\theta \\right)} - 2 J^{2} M^{5} r^{3} \\sin^{2}{\\left(\\theta \\right)} + 2 J^{2} M^{4} r^{4} \\sin^{2}{\\left(\\theta \\right)} \\cos^{2}{\\left(\\theta \\right)} + J^{2} M^{4} r^{4} \\sin^{2}{\\left(\\theta \\right)} - 2 M^{7} r^{5} \\sin^{2}{\\left(\\theta \\right)} + M^{6} r^{6} \\sin^{2}{\\left(\\theta \\right)}} + \\frac{2 pphi pt \\left(- 4 J^{3} M^{4} r \\cos^{2}{\\left(\\theta \\right)} - 4 J M^{6} r^{3}\\right)}{J^{6} \\cos^{4}{\\left(\\theta \\right)} + 2 J^{4} M^{3} r \\sin^{2}{\\left(\\theta \\right)} \\cos^{2}{\\left(\\theta \\right)} - 2 J^{4} M^{3} r \\cos^{2}{\\left(\\theta \\right)} + J^{4} M^{2} r^{2} \\cos^{4}{\\left(\\theta \\right)} + 2 J^{4} M^{2} r^{2} \\cos^{2}{\\left(\\theta \\right)} + 12 J^{2} M^{6} r^{2} \\sin^{2}{\\left(\\theta \\right)} + 2 J^{2} M^{5} r^{3} \\sin^{2}{\\left(\\theta \\right)} - 2 J^{2} M^{5} r^{3} \\cos^{2}{\\left(\\theta \\right)} - 2 J^{2} M^{5} r^{3} + 2 J^{2} M^{4} r^{4} \\cos^{2}{\\left(\\theta \\right)} + J^{2} M^{4} r^{4} - 2 M^{7} r^{5} + M^{6} r^{6}} + \\frac{pr^{2} \\left(J^{2} - 2 M^{3} r + M^{2} r^{2}\\right)}{J^{2} \\cos^{2}{\\left(\\theta \\right)} + M^{2} r^{2}} + \\frac{pt^{2} \\left(- J^{6} \\cos^{4}{\\left(\\theta \\right)} - 2 J^{4} M^{3} r \\sin^{2}{\\left(\\theta \\right)} \\cos^{2}{\\left(\\theta \\right)} - J^{4} M^{2} r^{2} \\cos^{4}{\\left(\\theta \\right)} - 2 J^{4} M^{2} r^{2} \\cos^{2}{\\left(\\theta \\right)} - 2 J^{2} M^{5} r^{3} \\sin^{2}{\\left(\\theta \\right)} - 2 J^{2} M^{4} r^{4} \\cos^{2}{\\left(\\theta \\right)} - J^{2} M^{4} r^{4} - M^{6} r^{6}\\right)}{J^{6} \\cos^{4}{\\left(\\theta \\right)} + 2 J^{4} M^{3} r \\sin^{2}{\\left(\\theta \\right)} \\cos^{2}{\\left(\\theta \\right)} - 2 J^{4} M^{3} r \\cos^{2}{\\left(\\theta \\right)} + J^{4} M^{2} r^{2} \\cos^{4}{\\left(\\theta \\right)} + 2 J^{4} M^{2} r^{2} \\cos^{2}{\\left(\\theta \\right)} + 12 J^{2} M^{6} r^{2} \\sin^{2}{\\left(\\theta \\right)} + 2 J^{2} M^{5} r^{3} \\sin^{2}{\\left(\\theta \\right)} - 2 J^{2} M^{5} r^{3} \\cos^{2}{\\left(\\theta \\right)} - 2 J^{2} M^{5} r^{3} + 2 J^{2} M^{4} r^{4} \\cos^{2}{\\left(\\theta \\right)} + J^{2} M^{4} r^{4} - 2 M^{7} r^{5} + M^{6} r^{6}}}{2 m}$"
      ],
      "text/plain": [
       "(M**2*ptheta**2/(J**2*cos(theta)**2 + M**2*r**2) + pphi**2*(J**4*M**2*cos(theta)**4 - 2*J**2*M**5*r*cos(theta)**2 + 2*J**2*M**4*r**2*cos(theta)**2 - 2*M**7*r**3 + M**6*r**4)/(J**6*sin(theta)**2*cos(theta)**4 + 2*J**4*M**3*r*sin(theta)**4*cos(theta)**2 - 2*J**4*M**3*r*sin(theta)**2*cos(theta)**2 + J**4*M**2*r**2*sin(theta)**2*cos(theta)**4 + 2*J**4*M**2*r**2*sin(theta)**2*cos(theta)**2 + 12*J**2*M**6*r**2*sin(theta)**4 + 2*J**2*M**5*r**3*sin(theta)**4 - 2*J**2*M**5*r**3*sin(theta)**2*cos(theta)**2 - 2*J**2*M**5*r**3*sin(theta)**2 + 2*J**2*M**4*r**4*sin(theta)**2*cos(theta)**2 + J**2*M**4*r**4*sin(theta)**2 - 2*M**7*r**5*sin(theta)**2 + M**6*r**6*sin(theta)**2) + 2*pphi*pt*(-4*J**3*M**4*r*cos(theta)**2 - 4*J*M**6*r**3)/(J**6*cos(theta)**4 + 2*J**4*M**3*r*sin(theta)**2*cos(theta)**2 - 2*J**4*M**3*r*cos(theta)**2 + J**4*M**2*r**2*cos(theta)**4 + 2*J**4*M**2*r**2*cos(theta)**2 + 12*J**2*M**6*r**2*sin(theta)**2 + 2*J**2*M**5*r**3*sin(theta)**2 - 2*J**2*M**5*r**3*cos(theta)**2 - 2*J**2*M**5*r**3 + 2*J**2*M**4*r**4*cos(theta)**2 + J**2*M**4*r**4 - 2*M**7*r**5 + M**6*r**6) + pr**2*(J**2 - 2*M**3*r + M**2*r**2)/(J**2*cos(theta)**2 + M**2*r**2) + pt**2*(-J**6*cos(theta)**4 - 2*J**4*M**3*r*sin(theta)**2*cos(theta)**2 - J**4*M**2*r**2*cos(theta)**4 - 2*J**4*M**2*r**2*cos(theta)**2 - 2*J**2*M**5*r**3*sin(theta)**2 - 2*J**2*M**4*r**4*cos(theta)**2 - J**2*M**4*r**4 - M**6*r**6)/(J**6*cos(theta)**4 + 2*J**4*M**3*r*sin(theta)**2*cos(theta)**2 - 2*J**4*M**3*r*cos(theta)**2 + J**4*M**2*r**2*cos(theta)**4 + 2*J**4*M**2*r**2*cos(theta)**2 + 12*J**2*M**6*r**2*sin(theta)**2 + 2*J**2*M**5*r**3*sin(theta)**2 - 2*J**2*M**5*r**3*cos(theta)**2 - 2*J**2*M**5*r**3 + 2*J**2*M**4*r**4*cos(theta)**2 + J**2*M**4*r**4 - 2*M**7*r**5 + M**6*r**6))/(2*m)"
      ]
     },
     "execution_count": 9,
     "metadata": {},
     "output_type": "execute_result"
    }
   ],
   "source": [
    "pt, pr, ptheta, pphi, m = symbols('pt pr ptheta pphi m')\n",
    "\n",
    "# Compute the expression for H\n",
    "Hamil = (1/(2*m)) * (\n",
    "    ginv[0, 0]* (pt**2) + \n",
    "    ginv[1, 1]* (pr**2) + \n",
    "    ginv[2, 2]* (ptheta**2) + \n",
    "    ginv[3, 3]* (pphi**2) + \n",
    "    2*ginv[0, 3]* pt * pphi\n",
    ")\n",
    "\n",
    "print(simplify(Hamil))\n",
    "Hamil"
   ]
  },
  {
   "cell_type": "code",
   "execution_count": 10,
   "id": "eabceafb-5734-427c-8652-64e1a67496e4",
   "metadata": {},
   "outputs": [
    {
     "name": "stdout",
     "output_type": "stream",
     "text": [
      "dpt/dtau: 0\n",
      " \n",
      "dt/dtau: (2*pphi*(-4*J**3*M**4*r*cos(theta)**2 - 4*J*M**6*r**3)/(J**6*cos(theta)**4 + 2*J**4*M**3*r*sin(theta)**2*cos(theta)**2 - 2*J**4*M**3*r*cos(theta)**2 + J**4*M**2*r**2*cos(theta)**4 + 2*J**4*M**2*r**2*cos(theta)**2 + 12*J**2*M**6*r**2*sin(theta)**2 + 2*J**2*M**5*r**3*sin(theta)**2 - 2*J**2*M**5*r**3*cos(theta)**2 - 2*J**2*M**5*r**3 + 2*J**2*M**4*r**4*cos(theta)**2 + J**2*M**4*r**4 - 2*M**7*r**5 + M**6*r**6) + 2*pt*(-J**6*cos(theta)**4 - 2*J**4*M**3*r*sin(theta)**2*cos(theta)**2 - J**4*M**2*r**2*cos(theta)**4 - 2*J**4*M**2*r**2*cos(theta)**2 - 2*J**2*M**5*r**3*sin(theta)**2 - 2*J**2*M**4*r**4*cos(theta)**2 - J**2*M**4*r**4 - M**6*r**6)/(J**6*cos(theta)**4 + 2*J**4*M**3*r*sin(theta)**2*cos(theta)**2 - 2*J**4*M**3*r*cos(theta)**2 + J**4*M**2*r**2*cos(theta)**4 + 2*J**4*M**2*r**2*cos(theta)**2 + 12*J**2*M**6*r**2*sin(theta)**2 + 2*J**2*M**5*r**3*sin(theta)**2 - 2*J**2*M**5*r**3*cos(theta)**2 - 2*J**2*M**5*r**3 + 2*J**2*M**4*r**4*cos(theta)**2 + J**2*M**4*r**4 - 2*M**7*r**5 + M**6*r**6))/(2*m)\n",
      " \n",
      "dpr/dtau: -(-2*M**4*ptheta**2*r/(J**2*cos(theta)**2 + M**2*r**2)**2 - 2*M**2*pr**2*r*(J**2 - 2*M**3*r + M**2*r**2)/(J**2*cos(theta)**2 + M**2*r**2)**2 + pphi**2*(-2*J**2*M**5*cos(theta)**2 + 4*J**2*M**4*r*cos(theta)**2 - 6*M**7*r**2 + 4*M**6*r**3)/(J**6*sin(theta)**2*cos(theta)**4 + 2*J**4*M**3*r*sin(theta)**4*cos(theta)**2 - 2*J**4*M**3*r*sin(theta)**2*cos(theta)**2 + J**4*M**2*r**2*sin(theta)**2*cos(theta)**4 + 2*J**4*M**2*r**2*sin(theta)**2*cos(theta)**2 + 12*J**2*M**6*r**2*sin(theta)**4 + 2*J**2*M**5*r**3*sin(theta)**4 - 2*J**2*M**5*r**3*sin(theta)**2*cos(theta)**2 - 2*J**2*M**5*r**3*sin(theta)**2 + 2*J**2*M**4*r**4*sin(theta)**2*cos(theta)**2 + J**2*M**4*r**4*sin(theta)**2 - 2*M**7*r**5*sin(theta)**2 + M**6*r**6*sin(theta)**2) + pphi**2*(J**4*M**2*cos(theta)**4 - 2*J**2*M**5*r*cos(theta)**2 + 2*J**2*M**4*r**2*cos(theta)**2 - 2*M**7*r**3 + M**6*r**4)*(-2*J**4*M**3*sin(theta)**4*cos(theta)**2 + 2*J**4*M**3*sin(theta)**2*cos(theta)**2 - 2*J**4*M**2*r*sin(theta)**2*cos(theta)**4 - 4*J**4*M**2*r*sin(theta)**2*cos(theta)**2 - 24*J**2*M**6*r*sin(theta)**4 - 6*J**2*M**5*r**2*sin(theta)**4 + 6*J**2*M**5*r**2*sin(theta)**2*cos(theta)**2 + 6*J**2*M**5*r**2*sin(theta)**2 - 8*J**2*M**4*r**3*sin(theta)**2*cos(theta)**2 - 4*J**2*M**4*r**3*sin(theta)**2 + 10*M**7*r**4*sin(theta)**2 - 6*M**6*r**5*sin(theta)**2)/(J**6*sin(theta)**2*cos(theta)**4 + 2*J**4*M**3*r*sin(theta)**4*cos(theta)**2 - 2*J**4*M**3*r*sin(theta)**2*cos(theta)**2 + J**4*M**2*r**2*sin(theta)**2*cos(theta)**4 + 2*J**4*M**2*r**2*sin(theta)**2*cos(theta)**2 + 12*J**2*M**6*r**2*sin(theta)**4 + 2*J**2*M**5*r**3*sin(theta)**4 - 2*J**2*M**5*r**3*sin(theta)**2*cos(theta)**2 - 2*J**2*M**5*r**3*sin(theta)**2 + 2*J**2*M**4*r**4*sin(theta)**2*cos(theta)**2 + J**2*M**4*r**4*sin(theta)**2 - 2*M**7*r**5*sin(theta)**2 + M**6*r**6*sin(theta)**2)**2 + 2*pphi*pt*(-4*J**3*M**4*cos(theta)**2 - 12*J*M**6*r**2)/(J**6*cos(theta)**4 + 2*J**4*M**3*r*sin(theta)**2*cos(theta)**2 - 2*J**4*M**3*r*cos(theta)**2 + J**4*M**2*r**2*cos(theta)**4 + 2*J**4*M**2*r**2*cos(theta)**2 + 12*J**2*M**6*r**2*sin(theta)**2 + 2*J**2*M**5*r**3*sin(theta)**2 - 2*J**2*M**5*r**3*cos(theta)**2 - 2*J**2*M**5*r**3 + 2*J**2*M**4*r**4*cos(theta)**2 + J**2*M**4*r**4 - 2*M**7*r**5 + M**6*r**6) + 2*pphi*pt*(-4*J**3*M**4*r*cos(theta)**2 - 4*J*M**6*r**3)*(-2*J**4*M**3*sin(theta)**2*cos(theta)**2 + 2*J**4*M**3*cos(theta)**2 - 2*J**4*M**2*r*cos(theta)**4 - 4*J**4*M**2*r*cos(theta)**2 - 24*J**2*M**6*r*sin(theta)**2 - 6*J**2*M**5*r**2*sin(theta)**2 + 6*J**2*M**5*r**2*cos(theta)**2 + 6*J**2*M**5*r**2 - 8*J**2*M**4*r**3*cos(theta)**2 - 4*J**2*M**4*r**3 + 10*M**7*r**4 - 6*M**6*r**5)/(J**6*cos(theta)**4 + 2*J**4*M**3*r*sin(theta)**2*cos(theta)**2 - 2*J**4*M**3*r*cos(theta)**2 + J**4*M**2*r**2*cos(theta)**4 + 2*J**4*M**2*r**2*cos(theta)**2 + 12*J**2*M**6*r**2*sin(theta)**2 + 2*J**2*M**5*r**3*sin(theta)**2 - 2*J**2*M**5*r**3*cos(theta)**2 - 2*J**2*M**5*r**3 + 2*J**2*M**4*r**4*cos(theta)**2 + J**2*M**4*r**4 - 2*M**7*r**5 + M**6*r**6)**2 + pr**2*(-2*M**3 + 2*M**2*r)/(J**2*cos(theta)**2 + M**2*r**2) + pt**2*(-2*J**4*M**3*sin(theta)**2*cos(theta)**2 - 2*J**4*M**2*r*cos(theta)**4 - 4*J**4*M**2*r*cos(theta)**2 - 6*J**2*M**5*r**2*sin(theta)**2 - 8*J**2*M**4*r**3*cos(theta)**2 - 4*J**2*M**4*r**3 - 6*M**6*r**5)/(J**6*cos(theta)**4 + 2*J**4*M**3*r*sin(theta)**2*cos(theta)**2 - 2*J**4*M**3*r*cos(theta)**2 + J**4*M**2*r**2*cos(theta)**4 + 2*J**4*M**2*r**2*cos(theta)**2 + 12*J**2*M**6*r**2*sin(theta)**2 + 2*J**2*M**5*r**3*sin(theta)**2 - 2*J**2*M**5*r**3*cos(theta)**2 - 2*J**2*M**5*r**3 + 2*J**2*M**4*r**4*cos(theta)**2 + J**2*M**4*r**4 - 2*M**7*r**5 + M**6*r**6) + pt**2*(-J**6*cos(theta)**4 - 2*J**4*M**3*r*sin(theta)**2*cos(theta)**2 - J**4*M**2*r**2*cos(theta)**4 - 2*J**4*M**2*r**2*cos(theta)**2 - 2*J**2*M**5*r**3*sin(theta)**2 - 2*J**2*M**4*r**4*cos(theta)**2 - J**2*M**4*r**4 - M**6*r**6)*(-2*J**4*M**3*sin(theta)**2*cos(theta)**2 + 2*J**4*M**3*cos(theta)**2 - 2*J**4*M**2*r*cos(theta)**4 - 4*J**4*M**2*r*cos(theta)**2 - 24*J**2*M**6*r*sin(theta)**2 - 6*J**2*M**5*r**2*sin(theta)**2 + 6*J**2*M**5*r**2*cos(theta)**2 + 6*J**2*M**5*r**2 - 8*J**2*M**4*r**3*cos(theta)**2 - 4*J**2*M**4*r**3 + 10*M**7*r**4 - 6*M**6*r**5)/(J**6*cos(theta)**4 + 2*J**4*M**3*r*sin(theta)**2*cos(theta)**2 - 2*J**4*M**3*r*cos(theta)**2 + J**4*M**2*r**2*cos(theta)**4 + 2*J**4*M**2*r**2*cos(theta)**2 + 12*J**2*M**6*r**2*sin(theta)**2 + 2*J**2*M**5*r**3*sin(theta)**2 - 2*J**2*M**5*r**3*cos(theta)**2 - 2*J**2*M**5*r**3 + 2*J**2*M**4*r**4*cos(theta)**2 + J**2*M**4*r**4 - 2*M**7*r**5 + M**6*r**6)**2)/(2*m)\n",
      " \n",
      "dr/dtau: pr*(J**2 - 2*M**3*r + M**2*r**2)/(m*(J**2*cos(theta)**2 + M**2*r**2))\n",
      " \n",
      "dptheta/dtau: -(16*J**3*M**4*pphi*pt*r*sin(theta)*cos(theta)/(J**6*cos(theta)**4 + 2*J**4*M**3*r*sin(theta)**2*cos(theta)**2 - 2*J**4*M**3*r*cos(theta)**2 + J**4*M**2*r**2*cos(theta)**4 + 2*J**4*M**2*r**2*cos(theta)**2 + 12*J**2*M**6*r**2*sin(theta)**2 + 2*J**2*M**5*r**3*sin(theta)**2 - 2*J**2*M**5*r**3*cos(theta)**2 - 2*J**2*M**5*r**3 + 2*J**2*M**4*r**4*cos(theta)**2 + J**2*M**4*r**4 - 2*M**7*r**5 + M**6*r**6) + 2*J**2*M**2*ptheta**2*sin(theta)*cos(theta)/(J**2*cos(theta)**2 + M**2*r**2)**2 + 2*J**2*pr**2*(J**2 - 2*M**3*r + M**2*r**2)*sin(theta)*cos(theta)/(J**2*cos(theta)**2 + M**2*r**2)**2 + pphi**2*(-4*J**4*M**2*sin(theta)*cos(theta)**3 + 4*J**2*M**5*r*sin(theta)*cos(theta) - 4*J**2*M**4*r**2*sin(theta)*cos(theta))/(J**6*sin(theta)**2*cos(theta)**4 + 2*J**4*M**3*r*sin(theta)**4*cos(theta)**2 - 2*J**4*M**3*r*sin(theta)**2*cos(theta)**2 + J**4*M**2*r**2*sin(theta)**2*cos(theta)**4 + 2*J**4*M**2*r**2*sin(theta)**2*cos(theta)**2 + 12*J**2*M**6*r**2*sin(theta)**4 + 2*J**2*M**5*r**3*sin(theta)**4 - 2*J**2*M**5*r**3*sin(theta)**2*cos(theta)**2 - 2*J**2*M**5*r**3*sin(theta)**2 + 2*J**2*M**4*r**4*sin(theta)**2*cos(theta)**2 + J**2*M**4*r**4*sin(theta)**2 - 2*M**7*r**5*sin(theta)**2 + M**6*r**6*sin(theta)**2) + pphi**2*(J**4*M**2*cos(theta)**4 - 2*J**2*M**5*r*cos(theta)**2 + 2*J**2*M**4*r**2*cos(theta)**2 - 2*M**7*r**3 + M**6*r**4)*(4*J**6*sin(theta)**3*cos(theta)**3 - 2*J**6*sin(theta)*cos(theta)**5 + 4*J**4*M**3*r*sin(theta)**5*cos(theta) - 8*J**4*M**3*r*sin(theta)**3*cos(theta)**3 - 4*J**4*M**3*r*sin(theta)**3*cos(theta) + 4*J**4*M**3*r*sin(theta)*cos(theta)**3 + 4*J**4*M**2*r**2*sin(theta)**3*cos(theta)**3 + 4*J**4*M**2*r**2*sin(theta)**3*cos(theta) - 2*J**4*M**2*r**2*sin(theta)*cos(theta)**5 - 4*J**4*M**2*r**2*sin(theta)*cos(theta)**3 - 48*J**2*M**6*r**2*sin(theta)**3*cos(theta) - 12*J**2*M**5*r**3*sin(theta)**3*cos(theta) + 4*J**2*M**5*r**3*sin(theta)*cos(theta)**3 + 4*J**2*M**5*r**3*sin(theta)*cos(theta) + 4*J**2*M**4*r**4*sin(theta)**3*cos(theta) - 4*J**2*M**4*r**4*sin(theta)*cos(theta)**3 - 2*J**2*M**4*r**4*sin(theta)*cos(theta) + 4*M**7*r**5*sin(theta)*cos(theta) - 2*M**6*r**6*sin(theta)*cos(theta))/(J**6*sin(theta)**2*cos(theta)**4 + 2*J**4*M**3*r*sin(theta)**4*cos(theta)**2 - 2*J**4*M**3*r*sin(theta)**2*cos(theta)**2 + J**4*M**2*r**2*sin(theta)**2*cos(theta)**4 + 2*J**4*M**2*r**2*sin(theta)**2*cos(theta)**2 + 12*J**2*M**6*r**2*sin(theta)**4 + 2*J**2*M**5*r**3*sin(theta)**4 - 2*J**2*M**5*r**3*sin(theta)**2*cos(theta)**2 - 2*J**2*M**5*r**3*sin(theta)**2 + 2*J**2*M**4*r**4*sin(theta)**2*cos(theta)**2 + J**2*M**4*r**4*sin(theta)**2 - 2*M**7*r**5*sin(theta)**2 + M**6*r**6*sin(theta)**2)**2 + 2*pphi*pt*(-4*J**3*M**4*r*cos(theta)**2 - 4*J*M**6*r**3)*(4*J**6*sin(theta)*cos(theta)**3 + 4*J**4*M**3*r*sin(theta)**3*cos(theta) - 4*J**4*M**3*r*sin(theta)*cos(theta)**3 - 4*J**4*M**3*r*sin(theta)*cos(theta) + 4*J**4*M**2*r**2*sin(theta)*cos(theta)**3 + 4*J**4*M**2*r**2*sin(theta)*cos(theta) - 24*J**2*M**6*r**2*sin(theta)*cos(theta) - 8*J**2*M**5*r**3*sin(theta)*cos(theta) + 4*J**2*M**4*r**4*sin(theta)*cos(theta))/(J**6*cos(theta)**4 + 2*J**4*M**3*r*sin(theta)**2*cos(theta)**2 - 2*J**4*M**3*r*cos(theta)**2 + J**4*M**2*r**2*cos(theta)**4 + 2*J**4*M**2*r**2*cos(theta)**2 + 12*J**2*M**6*r**2*sin(theta)**2 + 2*J**2*M**5*r**3*sin(theta)**2 - 2*J**2*M**5*r**3*cos(theta)**2 - 2*J**2*M**5*r**3 + 2*J**2*M**4*r**4*cos(theta)**2 + J**2*M**4*r**4 - 2*M**7*r**5 + M**6*r**6)**2 + pt**2*(4*J**6*sin(theta)*cos(theta)**3 + 4*J**4*M**3*r*sin(theta)**3*cos(theta) - 4*J**4*M**3*r*sin(theta)*cos(theta)**3 + 4*J**4*M**2*r**2*sin(theta)*cos(theta)**3 + 4*J**4*M**2*r**2*sin(theta)*cos(theta) - 4*J**2*M**5*r**3*sin(theta)*cos(theta) + 4*J**2*M**4*r**4*sin(theta)*cos(theta))/(J**6*cos(theta)**4 + 2*J**4*M**3*r*sin(theta)**2*cos(theta)**2 - 2*J**4*M**3*r*cos(theta)**2 + J**4*M**2*r**2*cos(theta)**4 + 2*J**4*M**2*r**2*cos(theta)**2 + 12*J**2*M**6*r**2*sin(theta)**2 + 2*J**2*M**5*r**3*sin(theta)**2 - 2*J**2*M**5*r**3*cos(theta)**2 - 2*J**2*M**5*r**3 + 2*J**2*M**4*r**4*cos(theta)**2 + J**2*M**4*r**4 - 2*M**7*r**5 + M**6*r**6) + pt**2*(-J**6*cos(theta)**4 - 2*J**4*M**3*r*sin(theta)**2*cos(theta)**2 - J**4*M**2*r**2*cos(theta)**4 - 2*J**4*M**2*r**2*cos(theta)**2 - 2*J**2*M**5*r**3*sin(theta)**2 - 2*J**2*M**4*r**4*cos(theta)**2 - J**2*M**4*r**4 - M**6*r**6)*(4*J**6*sin(theta)*cos(theta)**3 + 4*J**4*M**3*r*sin(theta)**3*cos(theta) - 4*J**4*M**3*r*sin(theta)*cos(theta)**3 - 4*J**4*M**3*r*sin(theta)*cos(theta) + 4*J**4*M**2*r**2*sin(theta)*cos(theta)**3 + 4*J**4*M**2*r**2*sin(theta)*cos(theta) - 24*J**2*M**6*r**2*sin(theta)*cos(theta) - 8*J**2*M**5*r**3*sin(theta)*cos(theta) + 4*J**2*M**4*r**4*sin(theta)*cos(theta))/(J**6*cos(theta)**4 + 2*J**4*M**3*r*sin(theta)**2*cos(theta)**2 - 2*J**4*M**3*r*cos(theta)**2 + J**4*M**2*r**2*cos(theta)**4 + 2*J**4*M**2*r**2*cos(theta)**2 + 12*J**2*M**6*r**2*sin(theta)**2 + 2*J**2*M**5*r**3*sin(theta)**2 - 2*J**2*M**5*r**3*cos(theta)**2 - 2*J**2*M**5*r**3 + 2*J**2*M**4*r**4*cos(theta)**2 + J**2*M**4*r**4 - 2*M**7*r**5 + M**6*r**6)**2)/(2*m)\n",
      " \n",
      "dtheta/dtau: M**2*ptheta/(m*(J**2*cos(theta)**2 + M**2*r**2))\n",
      " \n",
      "dpphi/dtau: 0\n",
      " \n",
      "dphi/dtau: (2*pphi*(J**4*M**2*cos(theta)**4 - 2*J**2*M**5*r*cos(theta)**2 + 2*J**2*M**4*r**2*cos(theta)**2 - 2*M**7*r**3 + M**6*r**4)/(J**6*sin(theta)**2*cos(theta)**4 + 2*J**4*M**3*r*sin(theta)**4*cos(theta)**2 - 2*J**4*M**3*r*sin(theta)**2*cos(theta)**2 + J**4*M**2*r**2*sin(theta)**2*cos(theta)**4 + 2*J**4*M**2*r**2*sin(theta)**2*cos(theta)**2 + 12*J**2*M**6*r**2*sin(theta)**4 + 2*J**2*M**5*r**3*sin(theta)**4 - 2*J**2*M**5*r**3*sin(theta)**2*cos(theta)**2 - 2*J**2*M**5*r**3*sin(theta)**2 + 2*J**2*M**4*r**4*sin(theta)**2*cos(theta)**2 + J**2*M**4*r**4*sin(theta)**2 - 2*M**7*r**5*sin(theta)**2 + M**6*r**6*sin(theta)**2) + 2*pt*(-4*J**3*M**4*r*cos(theta)**2 - 4*J*M**6*r**3)/(J**6*cos(theta)**4 + 2*J**4*M**3*r*sin(theta)**2*cos(theta)**2 - 2*J**4*M**3*r*cos(theta)**2 + J**4*M**2*r**2*cos(theta)**4 + 2*J**4*M**2*r**2*cos(theta)**2 + 12*J**2*M**6*r**2*sin(theta)**2 + 2*J**2*M**5*r**3*sin(theta)**2 - 2*J**2*M**5*r**3*cos(theta)**2 - 2*J**2*M**5*r**3 + 2*J**2*M**4*r**4*cos(theta)**2 + J**2*M**4*r**4 - 2*M**7*r**5 + M**6*r**6))/(2*m)\n"
     ]
    }
   ],
   "source": [
    "from sympy import diff\n",
    "\n",
    "# Partial derivatives with respect to pt, pr, p_theta, p_phi,\n",
    "partial_t = diff(Hamil, t)\n",
    "partial_pt = diff(Hamil, pt)\n",
    "partial_r = diff(Hamil, r)\n",
    "partial_pr = diff(Hamil, pr)\n",
    "partial_theta = diff(Hamil, theta)\n",
    "partial_p_theta = diff(Hamil, ptheta)\n",
    "partial_phi = diff(Hamil, phi)\n",
    "partial_p_phi = diff(Hamil, pphi)\n",
    "\n",
    "\n",
    "print(\"dpt/dtau:\", -partial_t)\n",
    "print(\" \")\n",
    "print(\"dt/dtau:\", partial_pt)\n",
    "print(\" \")\n",
    "print(\"dpr/dtau:\", -partial_r)\n",
    "print(\" \")\n",
    "print(\"dr/dtau:\", partial_pr)\n",
    "print(\" \")\n",
    "print(\"dptheta/dtau:\", -partial_theta)\n",
    "print(\" \")\n",
    "print(\"dtheta/dtau:\", partial_p_theta)\n",
    "print(\" \")\n",
    "print(\"dpphi/dtau:\", -partial_phi)\n",
    "print(\" \")\n",
    "print(\"dphi/dtau:\", partial_p_phi)"
   ]
  },
  {
   "cell_type": "code",
   "execution_count": null,
   "id": "d823bb90-ac87-4946-bb56-fa1ef9ed2eb6",
   "metadata": {},
   "outputs": [],
   "source": []
  }
 ],
 "metadata": {
  "kernelspec": {
   "display_name": "Python 3 (ipykernel)",
   "language": "python",
   "name": "python3"
  },
  "language_info": {
   "codemirror_mode": {
    "name": "ipython",
    "version": 3
   },
   "file_extension": ".py",
   "mimetype": "text/x-python",
   "name": "python",
   "nbconvert_exporter": "python",
   "pygments_lexer": "ipython3",
   "version": "3.9.12"
  }
 },
 "nbformat": 4,
 "nbformat_minor": 5
}
